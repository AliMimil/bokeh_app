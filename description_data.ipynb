{
 "cells": [
  {
   "cell_type": "code",
   "execution_count": 5,
   "metadata": {},
   "outputs": [],
   "source": [
    "import pandas as pd\n",
    "import json "
   ]
  },
  {
   "cell_type": "code",
   "execution_count": 7,
   "metadata": {},
   "outputs": [],
   "source": [
    "with open('data.json', 'r') as json_file:\n",
    "        data = json.load(json_file)\n",
    "\n",
    "\n",
    "df=pd.DataFrame(data)"
   ]
  },
  {
   "cell_type": "code",
   "execution_count": 8,
   "metadata": {},
   "outputs": [
    {
     "data": {
      "text/html": [
       "<div>\n",
       "<style scoped>\n",
       "    .dataframe tbody tr th:only-of-type {\n",
       "        vertical-align: middle;\n",
       "    }\n",
       "\n",
       "    .dataframe tbody tr th {\n",
       "        vertical-align: top;\n",
       "    }\n",
       "\n",
       "    .dataframe thead th {\n",
       "        text-align: right;\n",
       "    }\n",
       "</style>\n",
       "<table border=\"1\" class=\"dataframe\">\n",
       "  <thead>\n",
       "    <tr style=\"text-align: right;\">\n",
       "      <th></th>\n",
       "      <th>title</th>\n",
       "      <th>location</th>\n",
       "      <th>time</th>\n",
       "      <th>Domaine</th>\n",
       "      <th>Fonction</th>\n",
       "      <th>Contrat</th>\n",
       "      <th>Entreprise</th>\n",
       "      <th>salaire</th>\n",
       "      <th>Niveau_etude</th>\n",
       "    </tr>\n",
       "  </thead>\n",
       "  <tbody>\n",
       "    <tr>\n",
       "      <th>0</th>\n",
       "      <td>Développeur Full Stack</td>\n",
       "      <td>Rabat</td>\n",
       "      <td>29 May-17:34</td>\n",
       "      <td>Informatique / Multimédia / Internet</td>\n",
       "      <td>Informatique - Systèmes d'Information</td>\n",
       "      <td>CDI</td>\n",
       "      <td>Assurances</td>\n",
       "      <td>A discuter</td>\n",
       "      <td>Bac plus 5</td>\n",
       "    </tr>\n",
       "    <tr>\n",
       "      <th>1</th>\n",
       "      <td>Stage Community Manager</td>\n",
       "      <td>Casablanca</td>\n",
       "      <td>29 May-16:40</td>\n",
       "      <td>Informatique / Multimédia / Internet</td>\n",
       "      <td>Marketing/Communication</td>\n",
       "      <td>Stage</td>\n",
       "      <td>Confidentiel</td>\n",
       "      <td>A discuter</td>\n",
       "      <td>Pas important</td>\n",
       "    </tr>\n",
       "    <tr>\n",
       "      <th>2</th>\n",
       "      <td>DEVELOPPEUR NIVEAU 2</td>\n",
       "      <td>Casablanca</td>\n",
       "      <td>29 May-16:06</td>\n",
       "      <td>Informatique / Multimédia / Internet</td>\n",
       "      <td>Informatique - Développement</td>\n",
       "      <td>CDI</td>\n",
       "      <td>Entreprise étrangère</td>\n",
       "      <td>A discuter</td>\n",
       "      <td>Bac plus 2</td>\n",
       "    </tr>\n",
       "    <tr>\n",
       "      <th>3</th>\n",
       "      <td>OFFRE D'EMPLOI COMMUNITY MANAGER EN MARKETING</td>\n",
       "      <td>Casablanca</td>\n",
       "      <td>29 May-14:45</td>\n",
       "      <td>Informatique / Multimédia / Internet</td>\n",
       "      <td>Marketing/Communication</td>\n",
       "      <td>CDI</td>\n",
       "      <td>INDUS RAYONNAGE</td>\n",
       "      <td>A discuter</td>\n",
       "      <td>Bac plus 2</td>\n",
       "    </tr>\n",
       "    <tr>\n",
       "      <th>4</th>\n",
       "      <td>Développeur Android</td>\n",
       "      <td>Casablanca</td>\n",
       "      <td>29 May-14:44</td>\n",
       "      <td>Informatique / Multimédia / Internet</td>\n",
       "      <td>Informatique - Développement</td>\n",
       "      <td>CDI</td>\n",
       "      <td>MAZMA Technologies</td>\n",
       "      <td>A discuter</td>\n",
       "      <td>Bac plus 3</td>\n",
       "    </tr>\n",
       "  </tbody>\n",
       "</table>\n",
       "</div>"
      ],
      "text/plain": [
       "                                           title    location          time  \\\n",
       "0                         Développeur Full Stack       Rabat  29 May-17:34   \n",
       "1                        Stage Community Manager  Casablanca  29 May-16:40   \n",
       "2                           DEVELOPPEUR NIVEAU 2  Casablanca  29 May-16:06   \n",
       "3  OFFRE D'EMPLOI COMMUNITY MANAGER EN MARKETING  Casablanca  29 May-14:45   \n",
       "4                            Développeur Android  Casablanca  29 May-14:44   \n",
       "\n",
       "                                Domaine  \\\n",
       "0  Informatique / Multimédia / Internet   \n",
       "1  Informatique / Multimédia / Internet   \n",
       "2  Informatique / Multimédia / Internet   \n",
       "3  Informatique / Multimédia / Internet   \n",
       "4  Informatique / Multimédia / Internet   \n",
       "\n",
       "                                Fonction Contrat            Entreprise  \\\n",
       "0  Informatique - Systèmes d'Information     CDI            Assurances   \n",
       "1                Marketing/Communication   Stage          Confidentiel   \n",
       "2           Informatique - Développement     CDI  Entreprise étrangère   \n",
       "3                Marketing/Communication     CDI       INDUS RAYONNAGE   \n",
       "4           Informatique - Développement     CDI    MAZMA Technologies   \n",
       "\n",
       "      salaire   Niveau_etude  \n",
       "0  A discuter     Bac plus 5  \n",
       "1  A discuter  Pas important  \n",
       "2  A discuter     Bac plus 2  \n",
       "3  A discuter     Bac plus 2  \n",
       "4  A discuter     Bac plus 3  "
      ]
     },
     "execution_count": 8,
     "metadata": {},
     "output_type": "execute_result"
    }
   ],
   "source": [
    "df.head()"
   ]
  },
  {
   "cell_type": "code",
   "execution_count": 9,
   "metadata": {},
   "outputs": [
    {
     "data": {
      "text/plain": [
       "(659, 9)"
      ]
     },
     "execution_count": 9,
     "metadata": {},
     "output_type": "execute_result"
    }
   ],
   "source": [
    "df.shape"
   ]
  },
  {
   "cell_type": "code",
   "execution_count": 10,
   "metadata": {},
   "outputs": [
    {
     "data": {
      "text/plain": [
       "Index(['title', 'location', 'time', 'Domaine', 'Fonction', 'Contrat',\n",
       "       'Entreprise', 'salaire', 'Niveau_etude'],\n",
       "      dtype='object')"
      ]
     },
     "execution_count": 10,
     "metadata": {},
     "output_type": "execute_result"
    }
   ],
   "source": [
    "df.columns"
   ]
  },
  {
   "cell_type": "code",
   "execution_count": 11,
   "metadata": {},
   "outputs": [
    {
     "name": "stdout",
     "output_type": "stream",
     "text": [
      "<class 'pandas.core.frame.DataFrame'>\n",
      "RangeIndex: 659 entries, 0 to 658\n",
      "Data columns (total 9 columns):\n",
      " #   Column        Non-Null Count  Dtype \n",
      "---  ------        --------------  ----- \n",
      " 0   title         659 non-null    object\n",
      " 1   location      659 non-null    object\n",
      " 2   time          659 non-null    object\n",
      " 3   Domaine       659 non-null    object\n",
      " 4   Fonction      659 non-null    object\n",
      " 5   Contrat       659 non-null    object\n",
      " 6   Entreprise    659 non-null    object\n",
      " 7   salaire       659 non-null    object\n",
      " 8   Niveau_etude  659 non-null    object\n",
      "dtypes: object(9)\n",
      "memory usage: 46.5+ KB\n"
     ]
    }
   ],
   "source": [
    "df.info()"
   ]
  },
  {
   "cell_type": "code",
   "execution_count": 12,
   "metadata": {},
   "outputs": [
    {
     "data": {
      "text/html": [
       "<div>\n",
       "<style scoped>\n",
       "    .dataframe tbody tr th:only-of-type {\n",
       "        vertical-align: middle;\n",
       "    }\n",
       "\n",
       "    .dataframe tbody tr th {\n",
       "        vertical-align: top;\n",
       "    }\n",
       "\n",
       "    .dataframe thead th {\n",
       "        text-align: right;\n",
       "    }\n",
       "</style>\n",
       "<table border=\"1\" class=\"dataframe\">\n",
       "  <thead>\n",
       "    <tr style=\"text-align: right;\">\n",
       "      <th></th>\n",
       "      <th>title</th>\n",
       "      <th>location</th>\n",
       "      <th>time</th>\n",
       "      <th>Domaine</th>\n",
       "      <th>Fonction</th>\n",
       "      <th>Contrat</th>\n",
       "      <th>Entreprise</th>\n",
       "      <th>salaire</th>\n",
       "      <th>Niveau_etude</th>\n",
       "    </tr>\n",
       "  </thead>\n",
       "  <tbody>\n",
       "    <tr>\n",
       "      <th>count</th>\n",
       "      <td>659</td>\n",
       "      <td>659</td>\n",
       "      <td>659</td>\n",
       "      <td>659</td>\n",
       "      <td>659</td>\n",
       "      <td>659</td>\n",
       "      <td>659</td>\n",
       "      <td>659</td>\n",
       "      <td>659</td>\n",
       "    </tr>\n",
       "    <tr>\n",
       "      <th>unique</th>\n",
       "      <td>597</td>\n",
       "      <td>25</td>\n",
       "      <td>620</td>\n",
       "      <td>1</td>\n",
       "      <td>25</td>\n",
       "      <td>6</td>\n",
       "      <td>399</td>\n",
       "      <td>9</td>\n",
       "      <td>6</td>\n",
       "    </tr>\n",
       "    <tr>\n",
       "      <th>top</th>\n",
       "      <td>Infographiste</td>\n",
       "      <td>Casablanca</td>\n",
       "      <td>17 Feb-12:20</td>\n",
       "      <td>Informatique / Multimédia / Internet</td>\n",
       "      <td>Informatique - Développement</td>\n",
       "      <td>CDI</td>\n",
       "      <td>Confidentiel</td>\n",
       "      <td>A discuter</td>\n",
       "      <td>Bac plus 2</td>\n",
       "    </tr>\n",
       "    <tr>\n",
       "      <th>freq</th>\n",
       "      <td>7</td>\n",
       "      <td>308</td>\n",
       "      <td>3</td>\n",
       "      <td>659</td>\n",
       "      <td>211</td>\n",
       "      <td>252</td>\n",
       "      <td>37</td>\n",
       "      <td>540</td>\n",
       "      <td>251</td>\n",
       "    </tr>\n",
       "  </tbody>\n",
       "</table>\n",
       "</div>"
      ],
      "text/plain": [
       "                title    location          time  \\\n",
       "count             659         659           659   \n",
       "unique            597          25           620   \n",
       "top     Infographiste  Casablanca  17 Feb-12:20   \n",
       "freq                7         308             3   \n",
       "\n",
       "                                     Domaine                      Fonction  \\\n",
       "count                                    659                           659   \n",
       "unique                                     1                            25   \n",
       "top     Informatique / Multimédia / Internet  Informatique - Développement   \n",
       "freq                                     659                           211   \n",
       "\n",
       "       Contrat    Entreprise     salaire Niveau_etude  \n",
       "count      659           659         659          659  \n",
       "unique       6           399           9            6  \n",
       "top        CDI  Confidentiel  A discuter   Bac plus 2  \n",
       "freq       252            37         540          251  "
      ]
     },
     "execution_count": 12,
     "metadata": {},
     "output_type": "execute_result"
    }
   ],
   "source": [
    "df.describe()"
   ]
  },
  {
   "cell_type": "code",
   "execution_count": 14,
   "metadata": {},
   "outputs": [
    {
     "data": {
      "text/plain": [
       "array([\"Informatique - Systèmes d'Information\", 'Marketing/Communication',\n",
       "       'Informatique - Développement',\n",
       "       'Informatique - Webdesign/Infographie',\n",
       "       'Informatique - Systèmes/Réseaux', 'Assistant/Ventes/Accueil',\n",
       "       'Commercial professionnels (B2B)',\n",
       "       'Production - Gestion/Maintenance',\n",
       "       'Commercial/Technico-Commercial',\n",
       "       'Informatique - Développement Hardware',\n",
       "       'Commercial IT/Agence Com', 'Comptabilite/Gestion/Audit/Finance',\n",
       "       'Assistant(e) / Secrétaire de direction', 'Surveillance/Sécurité',\n",
       "       'Ingénierie - Telecoms/Electronique',\n",
       "       'Commercial particuliers (B2C)', 'SAV/Hotline/Téléconseiller',\n",
       "       'Direction/Resp. Co. et Centre de Profit', 'Import/Export',\n",
       "       'Qualité/Hygiène/Sécurité/Environnement',\n",
       "       'Logistique/Métiers du Transport', 'RH/Personnel/Formation',\n",
       "       'Achat', 'Production - Opérateur/Manoeuvre',\n",
       "       'Ingénierie - Electro-tech./Automat'], dtype=object)"
      ]
     },
     "execution_count": 14,
     "metadata": {},
     "output_type": "execute_result"
    }
   ],
   "source": [
    "df.Fonction.unique()"
   ]
  },
  {
   "cell_type": "code",
   "execution_count": 15,
   "metadata": {},
   "outputs": [
    {
     "data": {
      "text/plain": [
       "array(['A discuter', '8 000 - 10 000 DH', 'Commission',\n",
       "       '6 000 - 8 000 DH', '2 000 - 3 000 DH', '3 000 - 4 000 DH',\n",
       "       '4 000 - 6 000 DH', 'Plus de 10 000 DH', 'Plus de 30 000 DH'],\n",
       "      dtype=object)"
      ]
     },
     "execution_count": 15,
     "metadata": {},
     "output_type": "execute_result"
    }
   ],
   "source": [
    "df.salaire.unique()"
   ]
  },
  {
   "cell_type": "code",
   "execution_count": 16,
   "metadata": {},
   "outputs": [
    {
     "data": {
      "text/plain": [
       "array(['CDI', 'Stage', 'A discuter', 'CDD', 'Anapec', 'Interim'],\n",
       "      dtype=object)"
      ]
     },
     "execution_count": 16,
     "metadata": {},
     "output_type": "execute_result"
    }
   ],
   "source": [
    "df.Contrat.unique()"
   ]
  },
  {
   "cell_type": "code",
   "execution_count": null,
   "metadata": {},
   "outputs": [],
   "source": []
  }
 ],
 "metadata": {
  "kernelspec": {
   "display_name": "Python 3",
   "language": "python",
   "name": "python3"
  },
  "language_info": {
   "codemirror_mode": {
    "name": "ipython",
    "version": 3
   },
   "file_extension": ".py",
   "mimetype": "text/x-python",
   "name": "python",
   "nbconvert_exporter": "python",
   "pygments_lexer": "ipython3",
   "version": "3.10.0rc2"
  }
 },
 "nbformat": 4,
 "nbformat_minor": 2
}
